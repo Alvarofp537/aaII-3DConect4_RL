{
 "cells": [
  {
   "cell_type": "code",
   "execution_count": 1,
   "id": "9a8c87d1",
   "metadata": {},
   "outputs": [],
   "source": [
    "\n",
    "import numpy as np\n",
    "import matplotlib.pyplot as plt\n",
    "from ipywidgets import interact, IntSlider\n",
    "from mpl_toolkits.mplot3d import Axes3D\n",
    "from matplotlib.patches import Patch\n",
    "\n",
    "def plot_3d_board(grid, ax, agent_colors):\n",
    "    ax.clear()\n",
    "    ax.set_title(\"3D Connect-N Board\")\n",
    "    ax.set_xlim(0, grid.shape[2])\n",
    "    ax.set_ylim(0, grid.shape[1])\n",
    "    ax.set_zlim(0, grid.shape[0])\n",
    "    ax.set_xlabel(\"Y (depth)\")\n",
    "    ax.set_ylabel(\"X (width)\")\n",
    "    ax.set_zlabel(\"Z (height)\")\n",
    "\n",
    "    for z in range(grid.shape[0]):\n",
    "        for x in range(grid.shape[1]):\n",
    "            for y in range(grid.shape[2]):\n",
    "                player = grid[z, x, y]\n",
    "                if player != 0:\n",
    "                    color = agent_colors.get(player, \"black\")\n",
    "                    ax.scatter(y + 0.5, x + 0.5, z + 0.5, c=color, s=200)\n",
    "\n",
    "    ax.view_init(elev=30, azim=45)\n",
    "    ax.grid(True)\n",
    "\n",
    "def visualize_match(states, agent_names):\n",
    "    \"\"\"\n",
    "    Visualize the evolution of a match with a legend.\n",
    "    \n",
    "    :param states: list of 3D numpy arrays (shape [height, width, depth])\n",
    "    :param agent_names: list of agent names in the order they play (index 0 = player 1, etc.)\n",
    "    \"\"\"\n",
    "    # Assign consistent colors to each player\n",
    "    default_colors = [\"red\", \"blue\", \"green\", \"orange\", \"purple\", \"brown\", \"pink\", \"cyan\"]\n",
    "    agent_colors = {i + 1: default_colors[i % len(default_colors)] for i in range(len(agent_names))}\n",
    "\n",
    "    # For legend\n",
    "    legend_elements = [\n",
    "        Patch(facecolor=agent_colors[i + 1], edgecolor='black', label=f\"{i+1}: {agent_names[i]}\")\n",
    "        for i in range(len(agent_names))\n",
    "    ]\n",
    "\n",
    "    def view_step(step):\n",
    "        fig = plt.figure(figsize=(7, 6))\n",
    "        ax = fig.add_subplot(111, projection='3d')\n",
    "        plot_3d_board(states[step], ax, agent_colors)\n",
    "\n",
    "        # Place legend outside the plot area\n",
    "        plt.legend(handles=legend_elements, bbox_to_anchor=(1.05, 1), loc='upper left', borderaxespad=0.)\n",
    "        plt.tight_layout()\n",
    "        plt.show()\n",
    "\n",
    "    interact(\n",
    "        view_step,\n",
    "        step=IntSlider(min=0, max=len(states) - 1, step=1, value=0, description=\"Step\")\n",
    "    )"
   ]
  },
  {
   "cell_type": "code",
   "execution_count": 5,
   "id": "c75fa897",
   "metadata": {},
   "outputs": [
    {
     "data": {
      "application/vnd.jupyter.widget-view+json": {
       "model_id": "8853b91347a34f21be998fc24bf22e55",
       "version_major": 2,
       "version_minor": 0
      },
      "text/plain": [
       "interactive(children=(IntSlider(value=0, description='Step', max=33), Output()), _dom_classes=('widget-interac…"
      ]
     },
     "metadata": {},
     "output_type": "display_data"
    },
    {
     "name": "stdout",
     "output_type": "stream",
     "text": [
      "{'winner': 2}\n"
     ]
    }
   ],
   "source": [
    "from competition import ConnectN3DEnv\n",
    "from AbderramanIII import AbderramanIII\n",
    "from AMagno import AMagno\n",
    "from Heuristicos import Almanzor, Bismark\n",
    "import numpy as np\n",
    "import random\n",
    "\n",
    "env = ConnectN3DEnv(num_players=4)\n",
    "obs, _ = env.reset()\n",
    "done, info = False, {}\n",
    "i = 0\n",
    "agents = [AbderramanIII(), AMagno(),Almanzor(), AMagno()]\n",
    "random.shuffle(agents)\n",
    "states = []\n",
    "while not done:\n",
    "    if i < 4 and np.count_nonzero(env.board.grid) < i:\n",
    "        print('Alguien ha fallado ya!!')\n",
    "        print(env.board.grid)\n",
    "        print(f\"{np.count_nonzero(env.board.grid) = }, {i = }\")\n",
    "        raise SystemError\n",
    "    # A ver a quién le toca\n",
    "    current_p = env.current_player\n",
    "\n",
    "    agent = agents[current_p - 1]\n",
    "    # El agente selecciona qué acción hacer\n",
    "    action = agent.select_action(env.board)\n",
    "    # La hace y ve qué ha pasado con el entorno\n",
    "    next_obs, reward, done, _, info = env.step(action=action)\n",
    "    if reward < 0:\n",
    "        print(f'Invalid action {action} performed by {agent.name}')\n",
    "    # Vemos el nuevo estado del entorno para el próximo jugador\n",
    "    obs = next_obs\n",
    "    i += 1\n",
    "    states.append(env.board.grid.copy())\n",
    "    # print(f'Tablero[{i}]')\n",
    "    # print(env.board.grid)\n",
    "    # print()\n",
    "visualize_match(states, [a.name for a in agents])\n",
    "# plt.plot()\n",
    "print(info)"
   ]
  },
  {
   "cell_type": "code",
   "execution_count": null,
   "id": "8b145d82",
   "metadata": {},
   "outputs": [],
   "source": []
  }
 ],
 "metadata": {
  "kernelspec": {
   "display_name": "python3.12",
   "language": "python",
   "name": "python3"
  },
  "language_info": {
   "codemirror_mode": {
    "name": "ipython",
    "version": 3
   },
   "file_extension": ".py",
   "mimetype": "text/x-python",
   "name": "python",
   "nbconvert_exporter": "python",
   "pygments_lexer": "ipython3",
   "version": "3.12.3"
  }
 },
 "nbformat": 4,
 "nbformat_minor": 5
}
