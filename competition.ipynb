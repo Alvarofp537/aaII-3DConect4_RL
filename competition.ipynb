{
 "cells": [
  {
   "cell_type": "markdown",
   "id": "eb3144e1",
   "metadata": {},
   "source": [
    "#### Competición 2 A2C vs 3 Random\n",
    "\n",
    "Aprende lo básico"
   ]
  },
  {
   "cell_type": "code",
   "execution_count": 1,
   "id": "cb90432a",
   "metadata": {},
   "outputs": [
    {
     "name": "stdout",
     "output_type": "stream",
     "text": [
      "./A2c_0.pth True\n",
      "./A2c_1.pth True\n",
      "Ronda 1: Agent 0 vs. Agent 2 vs. A2c_0 vs. A2c_1\n",
      "Entrenamos por 1707 rondas\n",
      "Jugamosón: 1706 de 1707\n",
      "\tSe ha necesitado una ronda adicional\n",
      "Ronda 2: Agent 0 vs. Agent 1 vs. A2c_0 vs. A2c_1\n",
      "Entrenamos por 458 rondas\n",
      "Jugamosón: 457 de 458\n",
      "Ronda 3: Agent 0 vs. Agent 1 vs. Agent 2 vs. A2c_0\n",
      "Entrenamos por 438 rondas\n",
      "Jugamosón: 437 de 438\n",
      "Ronda 4: Agent 1 vs. Agent 2 vs. A2c_0 vs. A2c_1\n",
      "Entrenamos por 105 rondas\n",
      "Jugamosón: 104 de 105\n",
      "Ronda 5: Agent 0 vs. Agent 1 vs. Agent 2 vs. A2c_1\n",
      "Entrenamos por 113 rondas\n",
      "Jugamosón: 112 de 113\n",
      "\tSe han necesitado 20 rondas adicionales\n",
      "\n",
      "CLASIFICACIÓN FINAL\n",
      "Agente |  Puntos\n",
      "------------------\n",
      " A2c_0 |      35\n",
      " A2c_1 |      25\n",
      "Agent 1 |       5\n",
      "Agent 0 |       0\n",
      "Agent 2 |       0\n",
      "------------------\n"
     ]
    }
   ],
   "source": [
    "from competition import tournament, RandomAgent, A2C\n",
    "tournament(\n",
    "    agents=[RandomAgent(name=f'Agent {i}') for i in range(3)]+[A2C(name=f'A2c_{i}') for i in range(2)],\n",
    "    competitors_per_round=4,\n",
    "    num_rounds=10,\n",
    "    max_score=10,\n",
    "    score_to_substract=5,\n",
    ")"
   ]
  },
  {
   "cell_type": "markdown",
   "id": "d6ddb320",
   "metadata": {},
   "source": [
    "#### Competición 3 A2C vs 1 Random vs 3 Blocker\n",
    "\n",
    "Aprende a ganar aunque le bloqueen"
   ]
  },
  {
   "cell_type": "code",
   "execution_count": null,
   "id": "2d39e6d8",
   "metadata": {},
   "outputs": [
    {
     "name": "stdout",
     "output_type": "stream",
     "text": [
      "./A2c_0.pth True\n",
      "./A2c_1.pth True\n",
      "./A2c_2.pth True\n",
      "Ronda 1: A2c_1 vs. A2c_2 vs. Blocker_0 vs. Blocker_1\n",
      "Entrenamos por 113 rondas\n",
      "Jugamosmiento compltado en 113\n",
      "Ronda 2: A2c_0 vs. A2c_1 vs. A2c_2 vs. Blocker_0\n",
      "Entrenamos por 1003 rondas\n",
      "Iteración: 253 de 1003\r"
     ]
    }
   ],
   "source": [
    "from competition import tournament, RandomAgent, A2C, Blocker\n",
    "tournament(\n",
    "    agents=[RandomAgent(name=f'Agent {i}') for i in range(1)]+[A2C(name=f'A2c_{i}') for i in range(3)]+[Blocker(name=f'Blocker_{i}') for i in range(3)],\n",
    "    competitors_per_round=4,\n",
    "    num_rounds=10,\n",
    "    max_score=10,\n",
    "    score_to_substract=5,\n",
    ")"
   ]
  },
  {
   "cell_type": "markdown",
   "id": "04c18d7c",
   "metadata": {},
   "source": [
    "#### Competición 3 A2C vs 1 Random vs 3 Selfish\n",
    "\n",
    "Aprende bloquear"
   ]
  },
  {
   "cell_type": "code",
   "execution_count": null,
   "id": "fcce033b",
   "metadata": {},
   "outputs": [],
   "source": [
    "from competition import tournament, A2C, Selfish\n",
    "tournament(\n",
    "    agents=[A2C(name=f'A2c_{i}') for i in range(3)]+[Selfish(name=f'Selfish_{i}') for i in range(3)],\n",
    "    competitors_per_round=4,\n",
    "    num_rounds=10,\n",
    "    max_score=10,\n",
    "    score_to_substract=5,\n",
    ")"
   ]
  },
  {
   "cell_type": "markdown",
   "id": "69019f31",
   "metadata": {},
   "source": [
    "#### Competición 3 A2C vs 3 Minimax\n",
    "\n",
    "Jugamos contra minimax"
   ]
  },
  {
   "cell_type": "code",
   "execution_count": null,
   "id": "79ab1e78",
   "metadata": {},
   "outputs": [],
   "source": [
    "from competition import tournament, A2C, Minimax\n",
    "tournament(\n",
    "    agents=[A2C(name=f'A2c_{i}') for i in range(3)]+[Minimax(name=f'Minimax_{i}') for i in range(3)],\n",
    "    competitors_per_round=4,\n",
    "    num_rounds=10,\n",
    "    max_score=10,\n",
    "    score_to_substract=5,\n",
    ")"
   ]
  },
  {
   "cell_type": "markdown",
   "id": "5d3510c2",
   "metadata": {},
   "source": [
    "#### Competición 2 A2C vs 1 Random vs 1 Blocker vs 1 Selfish vs 1 Minimax\n",
    "\n",
    "Todos juntos"
   ]
  },
  {
   "cell_type": "code",
   "execution_count": null,
   "id": "40322cae",
   "metadata": {},
   "outputs": [],
   "source": [
    "from competition import tournament, A2C, RandomAgent, Blocker, Selfish, Minimax\n",
    "tournament(\n",
    "    agents=[A2C(name=f'A2c_{i}') for i in range(2)]+[RandomAgent(name=f'Random'), Blocker(name=f'Blocker'),\n",
    "                                                     Selfish(name=f'Selfish'), Minimax(name=f'Minimax')],\n",
    "    competitors_per_round=4,\n",
    "    num_rounds=10,\n",
    "    max_score=10,\n",
    "    score_to_substract=5,\n",
    ")"
   ]
  }
 ],
 "metadata": {
  "kernelspec": {
   "display_name": "python3.12",
   "language": "python",
   "name": "python3"
  },
  "language_info": {
   "codemirror_mode": {
    "name": "ipython",
    "version": 3
   },
   "file_extension": ".py",
   "mimetype": "text/x-python",
   "name": "python",
   "nbconvert_exporter": "python",
   "pygments_lexer": "ipython3",
   "version": "3.12.3"
  }
 },
 "nbformat": 4,
 "nbformat_minor": 5
}
