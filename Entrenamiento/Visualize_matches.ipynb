{
 "cells": [
  {
   "cell_type": "code",
   "execution_count": 6,
   "id": "c75fa897",
   "metadata": {},
   "outputs": [
    {
     "data": {
      "application/vnd.jupyter.widget-view+json": {
       "model_id": "718b0f010ba04a12be49f5dd35036397",
       "version_major": 2,
       "version_minor": 0
      },
      "text/plain": [
       "interactive(children=(IntSlider(value=0, description='Step', max=13), Output()), _dom_classes=('widget-interac…"
      ]
     },
     "metadata": {},
     "output_type": "display_data"
    },
    {
     "name": "stdout",
     "output_type": "stream",
     "text": [
      "{'winner': 2}\n"
     ]
    }
   ],
   "source": [
    "from competition import DQN, PPO, Blocker, ConnectN3DEnv, visualize_match, Selfish\n",
    "import numpy as np\n",
    "import random\n",
    "\n",
    "env = ConnectN3DEnv(num_players=4)\n",
    "obs, _ = env.reset()\n",
    "done, info = False, {}\n",
    "i = 0\n",
    "agents = [Selfish(name=f'Blocker_{i}') for i in range(2)]+[PPO(name=f'PPO_{i}') for i in range(2)]\n",
    "# random.shuffle(agents)\n",
    "states = []\n",
    "while not done:\n",
    "    if i < 4 and np.count_nonzero(env.board.grid) < i:\n",
    "        print('Alguien ha fallado ya!!')\n",
    "        print(env.board.grid)\n",
    "        print(f\"{np.count_nonzero(env.board.grid) = }, {i = }\")\n",
    "        raise SystemError\n",
    "    # A ver a quién le toca\n",
    "    current_p = env.current_player\n",
    "\n",
    "    agent = agents[current_p - 1]\n",
    "    # El agente selecciona qué acción hacer\n",
    "    action = agent.select_action(env.board)\n",
    "    # La hace y ve qué ha pasado con el entorno\n",
    "    next_obs, reward, done, _, info = env.step(action=action)\n",
    "    if reward < 0:\n",
    "        print(f'Invalid action {action} performed by {agent.name}')\n",
    "    # Vemos el nuevo estado del entorno para el próximo jugador\n",
    "    obs = next_obs\n",
    "    i += 1\n",
    "    states.append(env.board.grid.copy())\n",
    "    # print(f'Tablero[{i}]')\n",
    "    # print(env.board.grid)\n",
    "    # print()\n",
    "visualize_match(states, [a.name for a in agents])\n",
    "# plt.plot()\n",
    "print(info)"
   ]
  },
  {
   "cell_type": "code",
   "execution_count": null,
   "id": "215719b0",
   "metadata": {},
   "outputs": [],
   "source": []
  }
 ],
 "metadata": {
  "kernelspec": {
   "display_name": "python3.12",
   "language": "python",
   "name": "python3"
  },
  "language_info": {
   "codemirror_mode": {
    "name": "ipython",
    "version": 3
   },
   "file_extension": ".py",
   "mimetype": "text/x-python",
   "name": "python",
   "nbconvert_exporter": "python",
   "pygments_lexer": "ipython3",
   "version": "3.12.3"
  }
 },
 "nbformat": 4,
 "nbformat_minor": 5
}
